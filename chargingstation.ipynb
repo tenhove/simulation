{
 "cells": [
  {
   "cell_type": "code",
   "execution_count": 4,
   "metadata": {},
   "outputs": [],
   "source": [
    "import simpy\n",
    "import numpy as np"
   ]
  },
  {
   "cell_type": "markdown",
   "metadata": {},
   "source": [
    "A car will drive to a battery charging station (BCS) and request one of its two charging spots. If both of these spots are currently in use, it waits until one of them becomes available again. It then starts charging its battery and leaves the station afterwards."
   ]
  },
  {
   "cell_type": "code",
   "execution_count": 2,
   "metadata": {},
   "outputs": [],
   "source": [
    "def car(env, name, bcs, driving_time, charge_duration):\n",
    "    # Simulate driving to the BCS\n",
    "    yield env.timeout(driving_time)\n",
    "\n",
    "    # Request one of its charging spots\n",
    "    print('%s arriving at %d' % (name, env.now))\n",
    "    with bcs.request() as req:\n",
    "        yield req\n",
    "        # Charge the battery\n",
    "        print('%s starting to charge at %s' % (name, env.now))\n",
    "        yield env.timeout(charge_duration)\n",
    "        print('%s leaving the bcs at %s' % (name, env.now))\n"
   ]
  },
  {
   "cell_type": "markdown",
   "metadata": {},
   "source": [
    "The resource’s request() method generates an event that lets you wait until the resource becomes available again. If you are resumed, you “own” the resource until you release it.\n",
    "\n",
    "If you use the resource with the with statement as shown above, the resource is automatically being released. If you call request() without with, you are responsible to call release() once you are done using the resource.\n",
    "\n",
    "When you release a resource, the next waiting process is resumed and now “owns” one of the resource’s slots. The basic Resource sorts waiting processes in a FIFO(first in—first out) way.\n",
    "\n",
    "A resource needs a reference to an Environment and a capacity when it is created. We can now create the car processes and pass a reference to our resource as well as some additional parameters to them.\n"
   ]
  },
  {
   "cell_type": "code",
   "execution_count": 36,
   "metadata": {},
   "outputs": [
    {
     "name": "stdout",
     "output_type": "stream",
     "text": [
      "Car 0 arriving at 0\n",
      "Car 0 starting to charge at 0\n",
      "Car 1 arriving at 2\n",
      "Car 1 starting to charge at 2\n",
      "Car 2 arriving at 4\n",
      "Car 0 leaving the bcs at 5\n",
      "Car 2 starting to charge at 5\n",
      "Car 3 arriving at 6\n",
      "Car 1 leaving the bcs at 7\n",
      "Car 3 starting to charge at 7\n",
      "Car 2 leaving the bcs at 10\n",
      "Car 3 leaving the bcs at 12\n"
     ]
    }
   ],
   "source": [
    "env = simpy.Environment()\n",
    "bcs = simpy.Resource(env, capacity=2)\n",
    "for i in range(4):\n",
    "    dt = i*2\n",
    "    cd = 5\n",
    "    env.process(car(env, 'Car %d' % i, bcs, dt, cd))\n",
    "env.run()\n"
   ]
  },
  {
   "cell_type": "markdown",
   "metadata": {},
   "source": [
    "You can add randomness by sampling from a distribution. For instance the driving time can be modelled as a Poisson process with mean driving time 3."
   ]
  },
  {
   "cell_type": "code",
   "execution_count": 37,
   "metadata": {},
   "outputs": [
    {
     "name": "stdout",
     "output_type": "stream",
     "text": [
      "Car 2 arriving at 1\n",
      "Car 2 starting to charge at 1\n",
      "Car 0 arriving at 2\n",
      "Car 0 starting to charge at 2\n",
      "Car 1 arriving at 3\n",
      "Car 3 arriving at 6\n",
      "Car 2 leaving the bcs at 6\n",
      "Car 1 starting to charge at 6\n",
      "Car 0 leaving the bcs at 7\n",
      "Car 3 starting to charge at 7\n",
      "Car 1 leaving the bcs at 11\n",
      "Car 3 leaving the bcs at 12\n"
     ]
    }
   ],
   "source": [
    "env = simpy.Environment()\n",
    "bcs = simpy.Resource(env, capacity=2)\n",
    "np.random.seed(300) ## For illustration purpose the random seed is fixed. Delete seed to see different simulation runs.\n",
    "for i in range(4):\n",
    "    dt = np.random.poisson(lam=3, size=1)[0]\n",
    "    cd = 5\n",
    "    env.process(car(env, 'Car %d' % i, bcs, dt, cd))\n",
    "env.run()"
   ]
  },
  {
   "cell_type": "markdown",
   "metadata": {},
   "source": [
    "## Exercise\n",
    "\n",
    "Implement a random charge duration."
   ]
  }
 ],
 "metadata": {
  "interpreter": {
   "hash": "09508e5c0e133f151fe034ab66c03d2c5b5e4f72ca762749241202b570b3f94f"
  },
  "kernelspec": {
   "display_name": "Python 3.10.4 ('simulation')",
   "language": "python",
   "name": "python3"
  },
  "language_info": {
   "codemirror_mode": {
    "name": "ipython",
    "version": 3
   },
   "file_extension": ".py",
   "mimetype": "text/x-python",
   "name": "python",
   "nbconvert_exporter": "python",
   "pygments_lexer": "ipython3",
   "version": "3.10.4"
  },
  "orig_nbformat": 4
 },
 "nbformat": 4,
 "nbformat_minor": 2
}
