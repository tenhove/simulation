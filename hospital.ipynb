{
 "cells": [
  {
   "cell_type": "code",
   "execution_count": 185,
   "metadata": {},
   "outputs": [],
   "source": [
    "import simpy\n",
    "import numpy as np\n",
    "import statistics\n",
    "\n",
    "process_times = []\n"
   ]
  },
  {
   "cell_type": "code",
   "execution_count": 186,
   "metadata": {},
   "outputs": [],
   "source": [
    "class Hospital(object):\n",
    "    def __init__(self, env, num_nurses, num_radiologists, num_specialists):\n",
    "        self.env = env\n",
    "        self.nurse = simpy.Resource(env, num_nurses)\n",
    "        self.radiologist = simpy.Resource(env, num_radiologists)\n",
    "        self.specialist = simpy.Resource(env, num_specialists)\n",
    "\n",
    "    def check_vitals(self, patient):\n",
    "        yield self.env.timeout(np.random.randint(5, 10))\n",
    "    \n",
    "    def take_xray(self, patient):\n",
    "        yield self.env.timeout(np.random.randint(15, 25))\n",
    "    \n",
    "    def consult_patient(self, patient):\n",
    "        yield self.env.timeout(10, 20)\n"
   ]
  },
  {
   "cell_type": "code",
   "execution_count": 187,
   "metadata": {},
   "outputs": [],
   "source": [
    "def go_to_hospital(env, patient, hospital):\n",
    "    # Patient arrives at the hospital\n",
    "    arrival_time = env.now\n",
    "\n",
    "    with hospital.nurse.request() as request:\n",
    "        yield request\n",
    "        print(f\"Nurse starts checking vitals of patient {patient} at {env.now}\")\n",
    "        yield env.process(hospital.check_vitals(patient))\n",
    "        print(f\"Nurse finished checking patient {patient} at {env.now}\")\n",
    "\n",
    "    with hospital.specialist.request() as request:\n",
    "        yield request\n",
    "        print(f\"Specialist starts consult with patient {patient} at {env.now}\")\n",
    "        yield env.process(hospital.consult_patient(patient))\n",
    "        print(f\"Specialist finished consult with patient {patient} at {env.now}\")\n",
    "\n",
    "    if np.random.choice([True, False]):\n",
    "        with hospital.radiologist.request() as request:\n",
    "            yield request\n",
    "            print(f\"Radiologist takes xray of patient {patient} at {env.now}\")\n",
    "            yield env.process(hospital.take_xray(patient))\n",
    "            print(f\"Radiologist releases patient {patient} at {env.now}\")\n",
    "\n",
    "    # Patient goes home\n",
    "    finish_time = env.now\n",
    "    process_time = finish_time - arrival_time\n",
    "    print(f\">> Patient {patient} started at {arrival_time} and left at {finish_time} with total process time {process_time}\")\n",
    "    process_times.append(process_time)\n"
   ]
  },
  {
   "cell_type": "code",
   "execution_count": 188,
   "metadata": {},
   "outputs": [],
   "source": [
    "def run_hospital(env, num_nurses, num_radiologists, num_specialists):\n",
    "    hospital = Hospital(env, num_nurses, num_radiologists, num_specialists)\n",
    "    \n",
    "    for patient in range(3):\n",
    "        env.process(go_to_hospital(env, patient, hospital))\n",
    "\n",
    "    while True:\n",
    "        yield env.timeout(0.20)  # Wait a bit before generating a new patient\n",
    "\n",
    "        patient += 1\n",
    "        env.process(go_to_hospital(env, patient, hospital))\n"
   ]
  },
  {
   "cell_type": "code",
   "execution_count": 189,
   "metadata": {},
   "outputs": [],
   "source": [
    "def calculate_average_time(process_times):\n",
    "    average_process = statistics.mean(process_times)\n",
    "    return average_process\n"
   ]
  },
  {
   "cell_type": "code",
   "execution_count": 190,
   "metadata": {},
   "outputs": [],
   "source": [
    "def main(params=[1, 1, 1]):\n",
    "    # Setup\n",
    "    np.random.seed(42)\n",
    "    num_nurses, num_radiologists, num_specialists = params\n",
    "\n",
    "    # Run the simulation\n",
    "    env = simpy.Environment()\n",
    "    env.process(run_hospital(env, num_nurses, num_radiologists, num_specialists))\n",
    "    print(\"Running simulation...\")\n",
    "    env.run(until=90)\n",
    "\n",
    "    # View the results\n",
    "    average_process = calculate_average_time(process_times)\n",
    "    print(f\"\\nThe average process time is {average_process} minutes.\",)\n"
   ]
  },
  {
   "cell_type": "code",
   "execution_count": 191,
   "metadata": {},
   "outputs": [
    {
     "name": "stdout",
     "output_type": "stream",
     "text": [
      "Nurse starts checking vitals of patient 0 at 0\n",
      "Nurse finished checking patient 0 at 8\n",
      "Specialist starts consult with patient 0 at 8\n",
      "Nurse starts checking vitals of patient 1 at 8\n",
      "Nurse finished checking patient 1 at 17\n",
      "Nurse starts checking vitals of patient 2 at 17\n",
      "Specialist finished consult with patient 0 at 18\n",
      ">> Patient 0 started at 0 and left at 18 with total process time 18\n",
      "Specialist starts consult with patient 1 at 18\n",
      "Nurse finished checking patient 2 at 24\n",
      "Nurse starts checking vitals of patient 3 at 24\n",
      "Specialist finished consult with patient 1 at 28\n",
      "Radiologist takes xray of patient 1 at 28\n",
      "Specialist starts consult with patient 2 at 28\n",
      "Nurse finished checking patient 3 at 33\n",
      "Nurse starts checking vitals of patient 4 at 33\n",
      "Specialist finished consult with patient 2 at 38\n",
      "Specialist starts consult with patient 3 at 38\n",
      "Nurse finished checking patient 4 at 39\n",
      "Nurse starts checking vitals of patient 5 at 39\n",
      "Nurse finished checking patient 5 at 46\n",
      "Nurse starts checking vitals of patient 6 at 46\n",
      "Specialist finished consult with patient 3 at 48\n",
      ">> Patient 3 started at 0.2 and left at 48 with total process time 47.8\n",
      "Specialist starts consult with patient 4 at 48\n",
      "Radiologist releases patient 1 at 49\n",
      ">> Patient 1 started at 0 and left at 49 with total process time 49\n",
      "Radiologist takes xray of patient 2 at 49\n",
      "Nurse finished checking patient 6 at 53\n",
      "Nurse starts checking vitals of patient 7 at 53\n",
      "Specialist finished consult with patient 4 at 58\n",
      ">> Patient 4 started at 0.4 and left at 58 with total process time 57.6\n",
      "Specialist starts consult with patient 5 at 58\n",
      "Nurse finished checking patient 7 at 61\n",
      "Nurse starts checking vitals of patient 8 at 61\n",
      "Radiologist releases patient 2 at 68\n",
      ">> Patient 2 started at 0 and left at 68 with total process time 68\n",
      "Specialist finished consult with patient 5 at 68\n",
      ">> Patient 5 started at 0.6000000000000001 and left at 68 with total process time 67.4\n",
      "Nurse finished checking patient 8 at 68\n",
      "Specialist starts consult with patient 6 at 68\n",
      "Nurse starts checking vitals of patient 9 at 68\n",
      "Nurse finished checking patient 9 at 77\n",
      "Nurse starts checking vitals of patient 10 at 77\n",
      "Specialist finished consult with patient 6 at 78\n",
      ">> Patient 6 started at 0.8 and left at 78 with total process time 77.2\n",
      "Specialist starts consult with patient 7 at 78\n",
      "Nurse finished checking patient 10 at 83\n",
      "Nurse starts checking vitals of patient 11 at 83\n",
      "Specialist finished consult with patient 7 at 88\n",
      ">> Patient 7 started at 1.0 and left at 88 with total process time 87.0\n",
      "Specialist starts consult with patient 8 at 88\n",
      "Running simulation... \n",
      "The average process time is 59.0 minutes.\n"
     ]
    }
   ],
   "source": [
    "main()"
   ]
  }
 ],
 "metadata": {
  "interpreter": {
   "hash": "09508e5c0e133f151fe034ab66c03d2c5b5e4f72ca762749241202b570b3f94f"
  },
  "kernelspec": {
   "display_name": "Python 3.10.4 ('simulation')",
   "language": "python",
   "name": "python3"
  },
  "language_info": {
   "codemirror_mode": {
    "name": "ipython",
    "version": 3
   },
   "file_extension": ".py",
   "mimetype": "text/x-python",
   "name": "python",
   "nbconvert_exporter": "python",
   "pygments_lexer": "ipython3",
   "version": "3.10.4"
  },
  "orig_nbformat": 4
 },
 "nbformat": 4,
 "nbformat_minor": 2
}
